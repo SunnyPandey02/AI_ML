{
 "cells": [
  {
   "cell_type": "markdown",
   "metadata": {},
   "source": [
    "Voice Assistant\n",
    "- Speech Recognition\n",
    "- Speech Synthesis\n",
    "- Chat bot (Rule Based)\n",
    "\n",
    "\n",
    "speech_recognition\n",
    "pyttsx3\n",
    "nltk"
   ]
  },
  {
   "cell_type": "code",
   "execution_count": 1,
   "metadata": {},
   "outputs": [],
   "source": [
    "# !pip install speechrecognition"
   ]
  },
  {
   "cell_type": "code",
   "execution_count": 2,
   "metadata": {},
   "outputs": [],
   "source": [
    "# !pip install pyttsx3"
   ]
  },
  {
   "cell_type": "code",
   "execution_count": 3,
   "metadata": {},
   "outputs": [],
   "source": [
    "# !pip install nltk"
   ]
  },
  {
   "cell_type": "code",
   "execution_count": 4,
   "metadata": {},
   "outputs": [],
   "source": [
    "# !pip install pyaudio"
   ]
  },
  {
   "cell_type": "code",
   "execution_count": 5,
   "metadata": {},
   "outputs": [
    {
     "name": "stdout",
     "output_type": "stream",
     "text": [
      "speak:\n",
      "you said: hello\n",
      "\n"
     ]
    }
   ],
   "source": [
    "import speech_recognition as sr\n",
    "import pyaudio as pd\n",
    "import pyttsx3\n",
    "spk=pyttsx3.init()\n",
    "spk.setProperty('rate',150) #words per minute\n",
    "spk.setProperty('volume',1.0) #100% volume\n",
    "rec=sr.Recognizer()\n",
    "\n",
    "with sr.Microphone() as mic:\n",
    "    print('speak:')\n",
    "    spk.say('speak now')\n",
    "    spk.runAndWait()\n",
    "    audio=rec.listen(mic,timeout=1,phrase_time_limit=4)\n",
    "    \n",
    "    try:\n",
    "        text=rec.recognize_google(audio)\n",
    "        print('you said:',text,end='\\n\\n')\n",
    "        spk.say('you might have said: '+text )\n",
    "        spk.runAndWait()\n",
    "    except Exception as err:\n",
    "        print('Error: ',err,end='\\n\\n')"
   ]
  }
 ],
 "metadata": {
  "kernelspec": {
   "display_name": "Python 3",
   "language": "python",
   "name": "python3"
  },
  "language_info": {
   "codemirror_mode": {
    "name": "ipython",
    "version": 3
   },
   "file_extension": ".py",
   "mimetype": "text/x-python",
   "name": "python",
   "nbconvert_exporter": "python",
   "pygments_lexer": "ipython3",
   "version": "3.10.11"
  },
  "orig_nbformat": 4
 },
 "nbformat": 4,
 "nbformat_minor": 2
}
